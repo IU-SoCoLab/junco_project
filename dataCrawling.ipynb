{
 "cells": [
  {
   "cell_type": "markdown",
   "metadata": {},
   "source": [
    "# Flickr "
   ]
  },
  {
   "cell_type": "code",
   "execution_count": 1,
   "metadata": {
    "collapsed": true
   },
   "outputs": [],
   "source": [
    "import flickrapi\n",
    "import os"
   ]
  },
  {
   "cell_type": "code",
   "execution_count": 3,
   "metadata": {
    "collapsed": true
   },
   "outputs": [],
   "source": [
    "api_key = '620906d8cf71a979753e7d1ca46b2698'\n",
    "api_secret = '564b0a0b9dbb6489'\n",
    "# key and secret"
   ]
  },
  {
   "cell_type": "code",
   "execution_count": 4,
   "metadata": {
    "collapsed": true
   },
   "outputs": [],
   "source": [
    "flickr = flickrapi.FlickrAPI(api_key, api_secret, cache=True)"
   ]
  },
  {
   "cell_type": "code",
   "execution_count": 5,
   "metadata": {
    "collapsed": true
   },
   "outputs": [],
   "source": [
    "keyward = \"junco\"\n",
    "photos = flickr.walk(text=keyward,\n",
    "                         tag_mode='all',\n",
    "                         tags=keyward,\n",
    "                         extras='url_c,geo',\n",
    "                         per_page=100)\n",
    "\n",
    "f_obj = open(\"junco_flickr.csv\", \"w\")\n",
    "f_obj.write(\"Photo_ID|Owner_ID|Title|Latitude|Longitude|Image_URL|Image_Height|Image_Width\\n\")\n",
    "\n",
    "for photo in photos:\n",
    "    try:\n",
    "        data = [photo.get(\"id\"), photo.get(\"owner\").replace(\"|\", \",\"), photo.get(\"title\").replace(\"|\", \",\"),\n",
    "               photo.get(\"latitude\"), photo.get(\"longitude\"), photo.get(\"url_c\"),\n",
    "               photo.get(\"height_c\"), photo.get(\"width_c\")]\n",
    "        f_obj.write(\"|\".join(data) + \"\\n\")\n",
    "    except Exception as e:\n",
    "        pass\n",
    "        \n",
    "f_obj.close()"
   ]
  },
  {
   "cell_type": "markdown",
   "metadata": {},
   "source": [
    "## Image recognition "
   ]
  },
  {
   "cell_type": "code",
   "execution_count": 1,
   "metadata": {
    "collapsed": true
   },
   "outputs": [],
   "source": [
    "import io\n",
    "import os\n",
    "\n",
    "# Imports the Google Cloud client library\n",
    "from google.cloud import vision\n",
    "from google.cloud.vision import types\n"
   ]
  },
  {
   "cell_type": "code",
   "execution_count": 3,
   "metadata": {
    "collapsed": true
   },
   "outputs": [],
   "source": [
    "client = vision.ImageAnnotatorClient()"
   ]
  },
  {
   "cell_type": "code",
   "execution_count": null,
   "metadata": {},
   "outputs": [],
   "source": [
    "image_lst = os.listdir(\"Dir path containing image files\")\n",
    "\n",
    "for file_name in image_lst:\n",
    "    # Loads the image into memory\n",
    "    with io.open(file_name, 'rb') as image_file:\n",
    "        content = image_file.read()\n",
    "\n",
    "    image = types.Image(content=content)\n",
    "\n",
    "    # Performs label detection on the image file\n",
    "    response = client.label_detection(image=image)\n",
    "    labels = response.label_annotations\n",
    "\n",
    "    print('Labels:')\n",
    "    for label in labels:\n",
    "        print(label.description)"
   ]
  }
 ],
 "metadata": {
  "kernelspec": {
   "display_name": "Python 3",
   "language": "python",
   "name": "python3"
  },
  "language_info": {
   "codemirror_mode": {
    "name": "ipython",
    "version": 3
   },
   "file_extension": ".py",
   "mimetype": "text/x-python",
   "name": "python",
   "nbconvert_exporter": "python",
   "pygments_lexer": "ipython3",
   "version": "3.6.1"
  }
 },
 "nbformat": 4,
 "nbformat_minor": 2
}
